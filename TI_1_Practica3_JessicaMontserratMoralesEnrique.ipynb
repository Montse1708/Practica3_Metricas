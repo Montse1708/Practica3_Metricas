{
  "cells": [
    {
      "cell_type": "markdown",
      "metadata": {
        "id": "view-in-github",
        "colab_type": "text"
      },
      "source": [
        "<a href=\"https://colab.research.google.com/github/Montse1708/Practica3_Metricas/blob/main/TI_1_Practica3_JessicaMontserratMoralesEnrique.ipynb\" target=\"_parent\"><img src=\"https://colab.research.google.com/assets/colab-badge.svg\" alt=\"Open In Colab\"/></a>"
      ]
    },
    {
      "cell_type": "markdown",
      "id": "bbeb0c1e",
      "metadata": {
        "id": "bbeb0c1e"
      },
      "source": [
        "# Práctica 3\n",
        "\n",
        "**Nombre:** Jessica Montserrat Morales Enrique  \n",
        "**e-mail:** jessica.morales5556@alumnos.udg.mx"
      ]
    },
    {
      "cell_type": "markdown",
      "id": "a31326d0",
      "metadata": {
        "id": "a31326d0"
      },
      "source": [
        "## MODULES"
      ]
    },
    {
      "cell_type": "code",
      "execution_count": 1,
      "id": "9c33a472",
      "metadata": {
        "id": "9c33a472"
      },
      "outputs": [],
      "source": [
        "import math\n",
        "import numpy as np\n",
        "import pandas as pd\n",
        "\n",
        "import plotly.graph_objects as go\n",
        "\n",
        "from scipy.stats import wrapcauchy\n",
        "from scipy.stats import levy_stable\n",
        "\n",
        "from scipy.spatial import distance"
      ]
    },
    {
      "cell_type": "markdown",
      "id": "eea985c3",
      "metadata": {
        "id": "eea985c3"
      },
      "source": [
        "## CLASSES"
      ]
    },
    {
      "cell_type": "code",
      "execution_count": 2,
      "id": "e2ee1ad4",
      "metadata": {
        "id": "e2ee1ad4"
      },
      "outputs": [],
      "source": [
        "################# http://www.pygame.org/wiki/2DVectorClass ##################\n",
        "class Vec2d(object):\n",
        "    \"\"\"2d vector class, supports vector and scalar operators,\n",
        "       and also provides a bunch of high level functions\n",
        "       \"\"\"\n",
        "    __slots__ = ['x', 'y']\n",
        "\n",
        "    def __init__(self, x_or_pair, y = None):\n",
        "        if y == None:\n",
        "            self.x = x_or_pair[0]\n",
        "            self.y = x_or_pair[1]\n",
        "        else:\n",
        "            self.x = x_or_pair\n",
        "            self.y = y\n",
        "\n",
        "    # Addition\n",
        "    def __add__(self, other):\n",
        "        if isinstance(other, Vec2d):\n",
        "            return Vec2d(self.x + other.x, self.y + other.y)\n",
        "        elif hasattr(other, \"__getitem__\"):\n",
        "            return Vec2d(self.x + other[0], self.y + other[1])\n",
        "        else:\n",
        "            return Vec2d(self.x + other, self.y + other)\n",
        "\n",
        "    # Subtraction\n",
        "    def __sub__(self, other):\n",
        "        if isinstance(other, Vec2d):\n",
        "            return Vec2d(self.x - other.x, self.y - other.y)\n",
        "        elif (hasattr(other, \"__getitem__\")):\n",
        "            return Vec2d(self.x - other[0], self.y - other[1])\n",
        "        else:\n",
        "            return Vec2d(self.x - other, self.y - other)\n",
        "\n",
        "    # Vector length\n",
        "    def get_length(self):\n",
        "        return math.sqrt(self.x**2 + self.y**2)\n",
        "\n",
        "    # rotate vector\n",
        "    def rotated(self, angle):\n",
        "        cos = math.cos(angle)\n",
        "        sin = math.sin(angle)\n",
        "        x = self.x*cos - self.y*sin\n",
        "        y = self.x*sin + self.y*cos\n",
        "        return Vec2d(x, y)"
      ]
    },
    {
      "cell_type": "markdown",
      "id": "9f102d39",
      "metadata": {
        "id": "9f102d39"
      },
      "source": [
        "## FUNCTIONS"
      ]
    },
    {
      "cell_type": "code",
      "execution_count": null,
      "id": "74b6b78e",
      "metadata": {
        "id": "74b6b78e"
      },
      "outputs": [],
      "source": [
        "###############################################################################################\n",
        "# Turning angle\n",
        "# This function calculates the turning angle between three consecutive positions\n",
        "###############################################################################################\n",
        "def turning_angle(pos_a, pos_b, pos_c):\n",
        "    \"\"\"\n",
        "    Arguments:\n",
        "        pos_a: First position coordinates\n",
        "        pos_b: Second position coordinates\n",
        "        pos_c: Third position coordinates\n",
        "    Returns:\n",
        "        theta: Turning angle\n",
        "    \"\"\"\n",
        "    vec_ab = #code here\n",
        "    norm_ab = #code here\n",
        "\n",
        "    vec_bc = #code here\n",
        "    norm_bc = #code here\n",
        "\n",
        "    dot_p = #code here\n",
        "\n",
        "    # Nota: Evitar division por cero con np.finfo(float).eps\n",
        "    cos_theta = #code here\n",
        "\n",
        "    # Angle orientation\n",
        "    cross_p = #code here\n",
        "    orient = np.sign(cross_p)\n",
        "    if orient == 0:\n",
        "        orient = 1\n",
        "\n",
        "    theta = np.arccos(np.around(cos_theta,4)) * orient\n",
        "    return theta\n",
        "\n"
      ]
    },
    {
      "cell_type": "markdown",
      "id": "680109c9",
      "metadata": {
        "id": "680109c9"
      },
      "source": [
        "## Actividad 1: Path Length - (BM1 vs BM2 vs CRW) (4 pts)\n",
        "\n",
        "* Implementar función que genere **Brownian Motions** (BM) utilizando **pandas**.\n",
        "* Implementar función que genere **Correlated Random Walks** (CRW) utilizando pandas.\n",
        "* Implementar una función alternativa a las ya disponibles en los distintos modulos de python que calcule los valores de la curva de **path length** de una trayectoria.\n",
        "* Guardar los valores de la métrica en un Data Frame de **pandas**.\n",
        "* Visualizar con **plotly**."
      ]
    },
    {
      "cell_type": "code",
      "execution_count": 12,
      "id": "58627d1c",
      "metadata": {
        "id": "58627d1c"
      },
      "outputs": [],
      "source": [
        "# Load existing trajectories to test your implementation\n",
        "# BM speed = 3\n",
        "BM_2d_df_3 = pd.read_csv('trajectories/brownian_3.csv')\n",
        "\n",
        "# Load existing trajectories to test your implementation\n",
        "# BM speed = 6\n",
        "BM_2d_df_6 = pd.read_csv('trajectories/brownian_6.csv')\n",
        "\n",
        "# Load existing trajectories to test your implementation\n",
        "CRW_2d_df_9 = pd.read_csv('trajectories/crw_6_9.csv')"
      ]
    },
    {
      "cell_type": "markdown",
      "source": [
        "###Brownian Motions (BM) utilizando pandas"
      ],
      "metadata": {
        "id": "KYsZ61a6NeaL"
      },
      "id": "KYsZ61a6NeaL"
    },
    {
      "cell_type": "code",
      "source": [
        "######################################################################\n",
        "# Brownian Motion Trajectory\n",
        "######################################################################\n",
        "\n",
        "def BM_2d(n_steps=1000, speed=5, s_pos=[0,0]):\n",
        "  #Init velocity vector\n",
        "  velocity = Vec2d(speed, 0)\n",
        "\n",
        "  BM_2d_df = pd.DataFrame(columns = ['x_pos', 'y_pos'])\n",
        "  temp_df = pd.DataFrame([{'x_pos': s_pos[0], 'y_pos': s_pos[1]}])\n",
        "\n",
        "  #Concatenar\n",
        "  BM_2d_df = pd.concat([BM_2d_df, temp_df], ignore_index=True)\n",
        "\n",
        "  for i in range(n_steps-1):\n",
        "    turn_angle = np.random.uniform(low=np.pi, high=np.pi)\n",
        "    velocity = velocity.rotated(turn_angle)\n",
        "\n",
        "    temp_df = pd.DataFrame([{'x_pos': BM_2d_df.x_pos[i] + velocity.x, 'y_pos': BM_2d_df.y_pos[i] + velocity.y}])\n",
        "    #Concatenar\n",
        "    BM_2d_df = pd.concat([BM_2d_df, temp_df], ignore_index=True)\n",
        "  return BM_2d_df"
      ],
      "metadata": {
        "id": "cVYo5bNYNd0v"
      },
      "id": "cVYo5bNYNd0v",
      "execution_count": 3,
      "outputs": []
    },
    {
      "cell_type": "markdown",
      "source": [
        "###Correlated Random Walks (CRW) utilizando pandas"
      ],
      "metadata": {
        "id": "2gPE1xDQTZ8U"
      },
      "id": "2gPE1xDQTZ8U"
    },
    {
      "cell_type": "code",
      "source": [
        "def CRW_2d(CRW_exponents=0.2, n_steps=1000, speed=5, s_pos=[0,0]):\n",
        "    # Init velocity vector\n",
        "    velocity = Vec2d(speed, 0)\n",
        "    # Guardar las trayectorias en Pandas DataFrame\n",
        "    CRW_2d_df = pd.DataFrame(columns=['x_pos', 'y_pos'])\n",
        "    temp_df = pd.DataFrame([{'x_pos': s_pos[0], 'y_pos': s_pos[1]}])\n",
        "    # Concatenar\n",
        "    CRW_2d_df = pd.concat([CRW_2d_df, temp_df], ignore_index=True)\n",
        "\n",
        "    for i in range(n_steps-1 ):\n",
        "        # Rotación de la trayectoria\n",
        "        turn_angle = wrapcauchy.rvs(CRW_exponents)\n",
        "        velocity = velocity.rotated(turn_angle)\n",
        "\n",
        "        temp_df= pd.DataFrame([{'x_pos': CRW_2d_df.x_pos[i] + velocity.x, 'y_pos': CRW_2d_df.y_pos[i] + velocity.y}])\n",
        "        # Concatenar\n",
        "        CRW_2d_df = pd.concat([CRW_2d_df, temp_df], ignore_index=True)\n",
        "    return CRW_2d_df"
      ],
      "metadata": {
        "id": "zwU5zI7rTbWA"
      },
      "id": "zwU5zI7rTbWA",
      "execution_count": 6,
      "outputs": []
    },
    {
      "cell_type": "markdown",
      "source": [
        "###Función auxiliar que sustituye a distance.euclidean"
      ],
      "metadata": {
        "id": "S9FkUhjVdEaE"
      },
      "id": "S9FkUhjVdEaE"
    },
    {
      "cell_type": "code",
      "source": [
        "def distance_euclidean(point1, point2):\n",
        "    x1, y1 = point1\n",
        "    x2, y2 = point2\n",
        "    return math.sqrt((x2 - x1)**2 + (y2 - y1)**2)"
      ],
      "metadata": {
        "id": "9A2Wg0jZdOny"
      },
      "id": "9A2Wg0jZdOny",
      "execution_count": 17,
      "outputs": []
    },
    {
      "cell_type": "markdown",
      "source": [
        "###Función alternativa calcula los valores de la curva de path de una trayectoria."
      ],
      "metadata": {
        "id": "d7-A2bmUcb3T"
      },
      "id": "d7-A2bmUcb3T"
    },
    {
      "cell_type": "code",
      "execution_count": 15,
      "id": "02014f44",
      "metadata": {
        "id": "02014f44"
      },
      "outputs": [],
      "source": [
        "# Define your function to compute path length for given trajectory\n",
        "## start - Add your code here\n",
        "def path_length (trajectory):\n",
        "  n_steps = trajectory.shape[0]\n",
        "  array_trajectory = [];\n",
        "  for i in range(1, n_steps):\n",
        "    array_trajectory.append(distance_euclidean(trajectory.iloc[i-1], trajectory.iloc[i]))\n",
        "    path_length_df = pd.DataFrame(np.cumsum(array_trajectory), columns=['PL'])\n",
        "  return path_length_df\n",
        "\n",
        "## end - Add your code here"
      ]
    },
    {
      "cell_type": "code",
      "execution_count": 16,
      "id": "d2b16522",
      "metadata": {
        "id": "d2b16522",
        "colab": {
          "base_uri": "https://localhost:8080/",
          "height": 332
        },
        "outputId": "68eab447-0b5d-4ae7-d863-c4f811a793f1"
      },
      "outputs": [
        {
          "output_type": "error",
          "ename": "TypeError",
          "evalue": "distance_euclidean() missing 2 required positional arguments: 'x2' and 'y2'",
          "traceback": [
            "\u001b[0;31m---------------------------------------------------------------------------\u001b[0m",
            "\u001b[0;31mTypeError\u001b[0m                                 Traceback (most recent call last)",
            "\u001b[0;32m<ipython-input-16-3de0e404bac9>\u001b[0m in \u001b[0;36m<cell line: 3>\u001b[0;34m()\u001b[0m\n\u001b[1;32m      1\u001b[0m \u001b[0;31m# Get Path length calling the function\u001b[0m\u001b[0;34m\u001b[0m\u001b[0;34m\u001b[0m\u001b[0m\n\u001b[1;32m      2\u001b[0m \u001b[0;31m# Add your code here function(BM_2d_df_3)\u001b[0m\u001b[0;34m\u001b[0m\u001b[0;34m\u001b[0m\u001b[0m\n\u001b[0;32m----> 3\u001b[0;31m \u001b[0mPL_BM_3\u001b[0m \u001b[0;34m=\u001b[0m \u001b[0mpath_length\u001b[0m\u001b[0;34m(\u001b[0m\u001b[0mBM_2d_df_3\u001b[0m\u001b[0;34m)\u001b[0m\u001b[0;34m\u001b[0m\u001b[0;34m\u001b[0m\u001b[0m\n\u001b[0m\u001b[1;32m      4\u001b[0m \u001b[0;34m\u001b[0m\u001b[0m\n\u001b[1;32m      5\u001b[0m \u001b[0;31m# Get Path length calling the function\u001b[0m\u001b[0;34m\u001b[0m\u001b[0;34m\u001b[0m\u001b[0m\n",
            "\u001b[0;32m<ipython-input-15-2cef243ba970>\u001b[0m in \u001b[0;36mpath_length\u001b[0;34m(trajectory)\u001b[0m\n\u001b[1;32m      5\u001b[0m   \u001b[0marray_trajectory\u001b[0m \u001b[0;34m=\u001b[0m \u001b[0;34m[\u001b[0m\u001b[0;34m]\u001b[0m\u001b[0;34m;\u001b[0m\u001b[0;34m\u001b[0m\u001b[0;34m\u001b[0m\u001b[0m\n\u001b[1;32m      6\u001b[0m   \u001b[0;32mfor\u001b[0m \u001b[0mi\u001b[0m \u001b[0;32min\u001b[0m \u001b[0mrange\u001b[0m\u001b[0;34m(\u001b[0m\u001b[0;36m1\u001b[0m\u001b[0;34m,\u001b[0m \u001b[0mn_steps\u001b[0m\u001b[0;34m)\u001b[0m\u001b[0;34m:\u001b[0m\u001b[0;34m\u001b[0m\u001b[0;34m\u001b[0m\u001b[0m\n\u001b[0;32m----> 7\u001b[0;31m     \u001b[0marray_trajectory\u001b[0m\u001b[0;34m.\u001b[0m\u001b[0mappend\u001b[0m\u001b[0;34m(\u001b[0m\u001b[0mdistance_euclidean\u001b[0m\u001b[0;34m(\u001b[0m\u001b[0mtrajectory\u001b[0m\u001b[0;34m.\u001b[0m\u001b[0miloc\u001b[0m\u001b[0;34m[\u001b[0m\u001b[0mi\u001b[0m\u001b[0;34m-\u001b[0m\u001b[0;36m1\u001b[0m\u001b[0;34m]\u001b[0m\u001b[0;34m,\u001b[0m \u001b[0mtrajectory\u001b[0m\u001b[0;34m.\u001b[0m\u001b[0miloc\u001b[0m\u001b[0;34m[\u001b[0m\u001b[0mi\u001b[0m\u001b[0;34m]\u001b[0m\u001b[0;34m)\u001b[0m\u001b[0;34m)\u001b[0m\u001b[0;34m\u001b[0m\u001b[0;34m\u001b[0m\u001b[0m\n\u001b[0m\u001b[1;32m      8\u001b[0m     \u001b[0mpath_length_df\u001b[0m \u001b[0;34m=\u001b[0m \u001b[0mpd\u001b[0m\u001b[0;34m.\u001b[0m\u001b[0mDataFrame\u001b[0m\u001b[0;34m(\u001b[0m\u001b[0mnp\u001b[0m\u001b[0;34m.\u001b[0m\u001b[0mcumsum\u001b[0m\u001b[0;34m(\u001b[0m\u001b[0marray_trajectory\u001b[0m\u001b[0;34m)\u001b[0m\u001b[0;34m,\u001b[0m \u001b[0mcolumns\u001b[0m\u001b[0;34m=\u001b[0m\u001b[0;34m[\u001b[0m\u001b[0;34m'PL'\u001b[0m\u001b[0;34m]\u001b[0m\u001b[0;34m)\u001b[0m\u001b[0;34m\u001b[0m\u001b[0;34m\u001b[0m\u001b[0m\n\u001b[1;32m      9\u001b[0m   \u001b[0;32mreturn\u001b[0m \u001b[0mpath_length_df\u001b[0m\u001b[0;34m\u001b[0m\u001b[0;34m\u001b[0m\u001b[0m\n",
            "\u001b[0;31mTypeError\u001b[0m: distance_euclidean() missing 2 required positional arguments: 'x2' and 'y2'"
          ]
        }
      ],
      "source": [
        "# Get Path length calling the function\n",
        "# Add your code here function(BM_2d_df_3)\n",
        "PL_BM_3 = path_length(BM_2d_df_3)\n",
        "\n",
        "# Get Path length calling the function\n",
        "# Add your code here function(BM_2d_df_6)\n",
        "PL_BM_6 = path_length(BM_2d_df_6)\n",
        "\n",
        "# Get Path length calling the function\n",
        "# Add your code here function(CRW_2d_df_9)\n",
        "PL_CRW_6 = path_length(BM_2d_df_9)"
      ]
    },
    {
      "cell_type": "code",
      "execution_count": null,
      "id": "682d77ce",
      "metadata": {
        "id": "682d77ce",
        "colab": {
          "base_uri": "https://localhost:8080/",
          "height": 332
        },
        "outputId": "803b420f-00ba-4b97-da29-218e008704aa"
      },
      "outputs": [
        {
          "output_type": "error",
          "ename": "ValueError",
          "evalue": "CRW_exponents must be in the range (0, 1]",
          "traceback": [
            "\u001b[0;31m---------------------------------------------------------------------------\u001b[0m",
            "\u001b[0;31mValueError\u001b[0m                                Traceback (most recent call last)",
            "\u001b[0;32m<ipython-input-52-86d26407cf9f>\u001b[0m in \u001b[0;36m<cell line: 23>\u001b[0;34m()\u001b[0m\n\u001b[1;32m     21\u001b[0m \u001b[0mBM_2d_df_3\u001b[0m \u001b[0;34m=\u001b[0m \u001b[0mBM_2d\u001b[0m\u001b[0;34m(\u001b[0m\u001b[0;36m2000\u001b[0m\u001b[0;34m,\u001b[0m\u001b[0;36m3\u001b[0m\u001b[0;34m,\u001b[0m\u001b[0;34m[\u001b[0m\u001b[0;36m0\u001b[0m\u001b[0;34m,\u001b[0m\u001b[0;36m0\u001b[0m\u001b[0;34m]\u001b[0m\u001b[0;34m)\u001b[0m\u001b[0;34m\u001b[0m\u001b[0;34m\u001b[0m\u001b[0m\n\u001b[1;32m     22\u001b[0m \u001b[0mBM_2d_df_6\u001b[0m \u001b[0;34m=\u001b[0m \u001b[0mBM_2d\u001b[0m\u001b[0;34m(\u001b[0m\u001b[0;36m2000\u001b[0m\u001b[0;34m,\u001b[0m\u001b[0;36m6\u001b[0m\u001b[0;34m,\u001b[0m\u001b[0;34m[\u001b[0m\u001b[0;36m0\u001b[0m\u001b[0;34m,\u001b[0m\u001b[0;36m0\u001b[0m\u001b[0;34m]\u001b[0m\u001b[0;34m)\u001b[0m\u001b[0;34m\u001b[0m\u001b[0;34m\u001b[0m\u001b[0m\n\u001b[0;32m---> 23\u001b[0;31m \u001b[0mCRW_2d_df_6\u001b[0m \u001b[0;34m=\u001b[0m \u001b[0mCRW_2d\u001b[0m\u001b[0;34m(\u001b[0m\u001b[0;36m2000\u001b[0m\u001b[0;34m,\u001b[0m\u001b[0;36m6\u001b[0m\u001b[0;34m,\u001b[0m\u001b[0;34m[\u001b[0m\u001b[0;36m0\u001b[0m\u001b[0;34m,\u001b[0m\u001b[0;36m0\u001b[0m\u001b[0;34m]\u001b[0m\u001b[0;34m,\u001b[0m\u001b[0;36m0.4\u001b[0m\u001b[0;34m)\u001b[0m\u001b[0;34m\u001b[0m\u001b[0;34m\u001b[0m\u001b[0m\n\u001b[0m\u001b[1;32m     24\u001b[0m \u001b[0mfig_BM_2d\u001b[0m\u001b[0;34m=\u001b[0m\u001b[0mgo\u001b[0m\u001b[0;34m.\u001b[0m\u001b[0mFigure\u001b[0m\u001b[0;34m(\u001b[0m\u001b[0;34m)\u001b[0m\u001b[0;34m\u001b[0m\u001b[0;34m\u001b[0m\u001b[0m\n\u001b[1;32m     25\u001b[0m \u001b[0mPathLenght\u001b[0m\u001b[0;34m=\u001b[0m\u001b[0mcalcularDistancia\u001b[0m\u001b[0;34m(\u001b[0m\u001b[0mBM_2d_df_3\u001b[0m\u001b[0;34m)\u001b[0m\u001b[0;34m\u001b[0m\u001b[0;34m\u001b[0m\u001b[0m\n",
            "\u001b[0;32m<ipython-input-51-fed4b6cdb818>\u001b[0m in \u001b[0;36mCRW_2d\u001b[0;34m(CRW_exponents, resolution, speed, s_pos)\u001b[0m\n\u001b[1;32m      8\u001b[0m         \u001b[0mwrapcauchy_rvs\u001b[0m \u001b[0;34m=\u001b[0m \u001b[0mwrapcauchy\u001b[0m\u001b[0;34m.\u001b[0m\u001b[0mrvs\u001b[0m\u001b[0;34m(\u001b[0m\u001b[0mCRW_exponents\u001b[0m\u001b[0;34m,\u001b[0m \u001b[0msize\u001b[0m\u001b[0;34m=\u001b[0m\u001b[0mresolution\u001b[0m\u001b[0;34m)\u001b[0m\u001b[0;34m\u001b[0m\u001b[0;34m\u001b[0m\u001b[0m\n\u001b[1;32m      9\u001b[0m     \u001b[0;32melse\u001b[0m\u001b[0;34m:\u001b[0m\u001b[0;34m\u001b[0m\u001b[0;34m\u001b[0m\u001b[0m\n\u001b[0;32m---> 10\u001b[0;31m         \u001b[0;32mraise\u001b[0m \u001b[0mValueError\u001b[0m\u001b[0;34m(\u001b[0m\u001b[0;34m\"CRW_exponents must be in the range (0, 1]\"\u001b[0m\u001b[0;34m)\u001b[0m\u001b[0;34m\u001b[0m\u001b[0;34m\u001b[0m\u001b[0m\n\u001b[0m\u001b[1;32m     11\u001b[0m \u001b[0;34m\u001b[0m\u001b[0m\n\u001b[1;32m     12\u001b[0m     \u001b[0;31m# Guardar las trayectorias en Pandas DataFrame\u001b[0m\u001b[0;34m\u001b[0m\u001b[0;34m\u001b[0m\u001b[0m\n",
            "\u001b[0;31mValueError\u001b[0m: CRW_exponents must be in the range (0, 1]"
          ]
        }
      ],
      "source": [
        "# Plotting\n",
        "# Init figure\n",
        "fig_path_length = go.Figure()\n",
        "\n",
        "# First trace BM1\n",
        "## start - Add your code here\n",
        "\n",
        "## end - Add your code here\n",
        "\n",
        "\n",
        "# Second trace BM2\n",
        "## start - Add your code here\n",
        "\n",
        "## end - Add your code here\n",
        "\n",
        "\n",
        "# Third trace CRW\n",
        "## start - Add your code here\n",
        "\n",
        "## end - Add your code here\n",
        "BM_2d_df_3 = BM_2d(2000,3,[0,0])\n",
        "BM_2d_df_6 = BM_2d(2000,6,[0,0])\n",
        "CRW_2d_df_6 = CRW_2d(2000,6,[0,0],0.4)\n",
        "fig_BM_2d=go.Figure()\n",
        "PathLenght=calcularDistancia(BM_2d_df_3)\n",
        "fig_BM_2d.add_trace(go.Scatter(\n",
        "    x=PathLenght.x_pos.index,\n",
        "    y=PathLenght.z_pos,\n",
        "    marker=dict(size=2),\n",
        "    line=dict(width=1),\n",
        "    mode='lines',\n",
        "    name=\"BM Walk length vel 3\",\n",
        "    showlegend=True\n",
        "))\n",
        "PathLenght=calcularDistancia(BM_2d_df_6)\n",
        "fig_BM_2d.add_trace(go.Scatter(\n",
        "    x=PathLenght.x_pos.index,\n",
        "    y=PathLenght.z_pos,\n",
        "    marker=dict(size=2),\n",
        "    line=dict(width=6),\n",
        "    mode='lines',\n",
        "    name=\"BM Walk length vel 6\",\n",
        "    showlegend=True\n",
        "))\n",
        "PathLenght=calcularDistancia(CRW_2d_df_6)\n",
        "fig_BM_2d.add_trace(go.Scatter(\n",
        "    x=PathLenght.x_pos.index,\n",
        "    y=PathLenght.z_pos,\n",
        "    marker=dict(size=2),\n",
        "    line=dict(width=1),\n",
        "    mode='lines',\n",
        "    name='CRW Walk length vel 6',\n",
        "    showlegend=True\n",
        "))\n",
        "fig_BM_2d.show()\n",
        "\n",
        "fig_path_length.show()"
      ]
    },
    {
      "cell_type": "markdown",
      "id": "c4ea7d32",
      "metadata": {
        "id": "c4ea7d32"
      },
      "source": [
        "## Actividad 2: Mean Squared Displacement - (Brownian vs CRW) (4 pts)\n",
        "\n",
        "* Generar una trayectoria tipo **BM** y una **CRW**.\n",
        "* Implementar una función que calcule los valores de la curva de **mean squared displacement** de una trayectoria.\n",
        "* Guardar metricas en Pandas Data Frame.\n",
        "* Visualizar con **plotly**."
      ]
    },
    {
      "cell_type": "code",
      "execution_count": null,
      "id": "7c5082a3",
      "metadata": {
        "id": "7c5082a3"
      },
      "outputs": [],
      "source": [
        "# Load existing trajectories to test your implementation\n",
        "# BM speed = 6\n",
        "BM_2d_df_6 = pd.read_csv('trajectories/brownian_6.csv')\n",
        "\n",
        "# Load existing trajectories to test your implementation\n",
        "# CRW speed = 6, c = 0.9\n",
        "CRW_2d_df_9 = pd.read_csv('trajectories/crw_6_9.csv')"
      ]
    },
    {
      "cell_type": "code",
      "execution_count": null,
      "id": "b0cabe00",
      "metadata": {
        "id": "b0cabe00"
      },
      "outputs": [],
      "source": [
        "# Show trajectories\n",
        "# Init figure\n",
        "fig_3d = go.Figure()\n",
        "\n",
        "# Plot trajectory in 3-D space\n",
        "fig_3d.add_trace(\n",
        "    go.Scatter3d(x = BM_2d_df_6.x_pos,\n",
        "                 y = BM_2d_df_6.y_pos,\n",
        "                 z = BM_2d_df_6.index,\n",
        "                 marker = dict(size=2),\n",
        "                 line = dict(color='blue', width=2),\n",
        "                 mode = 'lines',\n",
        "                 name = 'BM 2d',\n",
        "                 showlegend = True))\n",
        "\n",
        "\n",
        "fig_3d.add_trace(\n",
        "    go.Scatter3d(x = CRW_2d_df_9.x_pos,\n",
        "                 y = CRW_2d_df_9.y_pos,\n",
        "                 z = CRW_2d_df_9.index,\n",
        "                 marker = dict(size=2),\n",
        "                 line = dict(color='red', width=2),\n",
        "                 mode = 'lines',\n",
        "                 name = 'CRW 2d',\n",
        "                 showlegend = True))\n",
        "\n",
        "fig_3d.show()"
      ]
    },
    {
      "cell_type": "code",
      "execution_count": null,
      "id": "c3b6784f",
      "metadata": {
        "id": "c3b6784f"
      },
      "outputs": [],
      "source": [
        "# Define your function to compute Mean Squared Displacement for given trajectory\n",
        "\n",
        "## start - Add your code here\n",
        "# def function (trajectory):\n",
        "\n",
        "\n",
        "    #return MSD_df\n",
        "\n",
        "## end - Add your code here"
      ]
    },
    {
      "cell_type": "code",
      "execution_count": null,
      "id": "9d898baf",
      "metadata": {
        "id": "9d898baf"
      },
      "outputs": [],
      "source": [
        "# Get Mean Squared Displacement calling the function\n",
        "MSD_BM = # Add your code here function(BM_2d_df_6)\n",
        "\n",
        "# Get Mean Squared Displacement calling the function\n",
        "MSD_CRW = # Add your code here function(CRW_2d_df_9)"
      ]
    },
    {
      "cell_type": "code",
      "execution_count": null,
      "id": "128360f4",
      "metadata": {
        "id": "128360f4"
      },
      "outputs": [],
      "source": [
        "# Init figure\n",
        "fig_path_length = go.Figure()\n",
        "\n",
        "# first trace MSD_BM\n",
        "## start - Add your code here\n",
        "\n",
        "## end - Add your code here\n",
        "\n",
        "\n",
        "# Second trace MSD_CRW\n",
        "## start - Add your code here\n",
        "\n",
        "## end - Add your code here\n",
        "\n",
        "\n",
        "fig_path_length.show()"
      ]
    },
    {
      "cell_type": "markdown",
      "id": "bcc0bb18",
      "metadata": {
        "id": "bcc0bb18"
      },
      "source": [
        "## Actividad 3: Turning-angle Distribution - (Dist. origen vs Dist. observada) (6 pts)\n",
        "\n",
        "* Generar **CRWs** con dos exponentes diferentes\n",
        "* Guardar trayectorias en **Pandas** Data Frame\n",
        "* Implementar una función que calcule los valores de **turning angle** de una trayectoria.\n",
        "* Comparar en gráfica distribución origen vs distribución observada (Histograma)\n",
        "* Visualizar con **plotly**"
      ]
    },
    {
      "cell_type": "code",
      "execution_count": null,
      "id": "147f549b",
      "metadata": {
        "id": "147f549b"
      },
      "outputs": [],
      "source": [
        "# Load existing trajectories to test your implementation\n",
        "# CRW speed = 6,\n",
        "# wrapcauchy [c = 0.6]\n",
        "CRW_2d_df_6 = pd.read_csv('trajectories/crw_6_6.csv')\n",
        "\n",
        "# Load existing trajectories to test your implementation\n",
        "# CRW speed = 6,\n",
        "# wrapcauchy [c = 0.9]\n",
        "CRW_2d_df_9 = pd.read_csv('trajectories/crw_6_9.csv')"
      ]
    },
    {
      "cell_type": "code",
      "execution_count": null,
      "id": "82d7c0e9",
      "metadata": {
        "id": "82d7c0e9"
      },
      "outputs": [],
      "source": [
        "# aux to store turning angles\n",
        "aux_ta_CRW_2d_df_6 = np.empty(shape=(0))\n",
        "\n",
        "\n",
        "# Iterate over trajectory compute turning angles\n",
        "for index, row in CRW_2d_df_6[1:-1].iterrows():\n",
        "    ## start - Add your code here\n",
        "\n",
        "    ## end - Add your code here\n",
        "\n",
        "# aux to store turning angles\n",
        "aux_ta_CRW_2d_df_9 = np.empty(shape=(0))\n",
        "\n",
        "\n",
        "\n",
        "## start - Add your code here\n",
        "\n",
        "## end - Add your code here"
      ]
    },
    {
      "cell_type": "code",
      "execution_count": null,
      "id": "8e442503",
      "metadata": {
        "id": "8e442503"
      },
      "outputs": [],
      "source": [
        "# Define your function to compute Turning Angles for given trajectory\n",
        "\n",
        "## start - Add your code here\n",
        "# def function (trajectory):\n",
        "\n",
        "\n",
        "    #return ta_df\n",
        "\n",
        "## end - Add your code here"
      ]
    },
    {
      "cell_type": "code",
      "execution_count": null,
      "id": "71f1f594",
      "metadata": {
        "id": "71f1f594"
      },
      "outputs": [],
      "source": [
        "# Get Turning Angles calling the function\n",
        "ta_CRW_2d_df_6 = # Add your code here function(CRW_2d_df_6)\n",
        "\n",
        "# Get Turning Angles calling the function\n",
        "ta_CRW_2d_df_9 = # Add your code here function(CRW_2d_df_9)"
      ]
    },
    {
      "cell_type": "code",
      "execution_count": null,
      "id": "d0689013",
      "metadata": {
        "id": "d0689013"
      },
      "outputs": [],
      "source": [
        "# Check documentation\n",
        "# https://plotly.com/python/histograms/\n",
        "\n",
        "# PLot histogram\n",
        "fig_met_df_3 = go.Figure()\n",
        "\n",
        "\n",
        "# Histogram turning angle CRW_2d_df_6\n",
        "## start - Add your code here\n",
        "\n",
        "## end - Add your code here\n",
        "\n",
        "\n",
        "# Histogram turning angle CRW_2d_df_9\n",
        "## start - Add your code here\n",
        "\n",
        "## end - Add your code here\n",
        "\n",
        "\n",
        "# Add origin distributions\n",
        "## start - Add your code here\n",
        "\n",
        "## end - Add your code here\n",
        "\n",
        "\n",
        "fig_met_df_3.show()"
      ]
    },
    {
      "cell_type": "markdown",
      "id": "6bc5c5b6",
      "metadata": {
        "id": "6bc5c5b6"
      },
      "source": [
        "## Actividad 4: Step-length Distribution - (Dist. origen vs Dist. observada) (6 pts)\n",
        "\n",
        "* Implementar función que genere **Lévy Walks** (LW) utilizando pandas.\n",
        "* Guardar trayectorias en Pandas Data Frame.\n",
        "* Implementar una función que calcule los valores de **step lenght** de una trayectoria.\n",
        "* Guardar trayectorias en **pandas** Data Frame.\n",
        "* Obtener **Step-length** distribution.\n",
        "* Comparar en gráfica distribución origen vs distribución observada (Histograma).\n",
        "* Visualizar con plotly."
      ]
    },
    {
      "cell_type": "code",
      "execution_count": null,
      "id": "68b774d1",
      "metadata": {
        "id": "68b774d1"
      },
      "outputs": [],
      "source": [
        "# Load existing trajectories to test your implementation\n",
        "# Levy speed = 6\n",
        "# levy_stable [alpha=1.0, beta=1.0, loc=3.0]\n",
        "Levy_2d_df_1 = pd.read_csv('trajectories/levy_6_1.csv')\n",
        "\n",
        "# Load existing trajectories to test your implementation\n",
        "# Levy speed = 6\n",
        "# levy_stable [alpha=0.7, beta=1.0, loc=3.0]\n",
        "Levy_2d_df_7 = pd.read_csv('trajectories/levy_6_7.csv')"
      ]
    },
    {
      "cell_type": "code",
      "execution_count": null,
      "id": "8a6874d5",
      "metadata": {
        "id": "8a6874d5"
      },
      "outputs": [],
      "source": [
        "# Define your function to compute Step lengths for given trajectory\n",
        "\n",
        "## start - Add your code here\n",
        "# def function (trajectory):\n",
        "\n",
        "\n",
        "    #return sl_df\n",
        "\n",
        "## end - Add your code here"
      ]
    },
    {
      "cell_type": "code",
      "execution_count": null,
      "id": "fa07a12a",
      "metadata": {
        "id": "fa07a12a"
      },
      "outputs": [],
      "source": [
        "# Get Step lengths calling the function\n",
        "sl_Levy_2d_df_1 = # Add your code here function(Levy_2d_df_1)\n",
        "\n",
        "# Get Step lengths calling the function\n",
        "sl_Levy_2d_df_7 = # Add your code here function(Levy_2d_df_7)"
      ]
    },
    {
      "cell_type": "code",
      "execution_count": null,
      "id": "0a628fe5",
      "metadata": {
        "id": "0a628fe5"
      },
      "outputs": [],
      "source": [
        "# PLot histogram\n",
        "fig_met_df_4 = go.Figure()\n",
        "\n",
        "# Histogram step-length Levy_2d_df_1\n",
        "## start - Add your code here\n",
        "\n",
        "## end - Add your code here\n",
        "\n",
        "\n",
        "# Histogram step-length Levy_2d_df_7\n",
        "## start - Add your code here\n",
        "\n",
        "## end - Add your code here\n",
        "\n",
        "\n",
        "# Add origin distributions\n",
        "## start - Add your code here\n",
        "\n",
        "## end - Add your code here\n",
        "\n",
        "\n",
        "fig_met_df_4.show()"
      ]
    }
  ],
  "metadata": {
    "colab": {
      "provenance": [],
      "include_colab_link": true
    },
    "kernelspec": {
      "display_name": "py310_nb",
      "language": "python",
      "name": "py310_nb"
    },
    "language_info": {
      "codemirror_mode": {
        "name": "ipython",
        "version": 3
      },
      "file_extension": ".py",
      "mimetype": "text/x-python",
      "name": "python",
      "nbconvert_exporter": "python",
      "pygments_lexer": "ipython3",
      "version": "3.10.5"
    }
  },
  "nbformat": 4,
  "nbformat_minor": 5
}